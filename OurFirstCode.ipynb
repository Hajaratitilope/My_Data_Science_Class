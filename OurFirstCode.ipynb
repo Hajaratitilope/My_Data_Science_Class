{
 "cells": [
  {
   "cell_type": "code",
   "execution_count": 2,
   "id": "871e981a-9a7e-447c-a013-856ef3b31e07",
   "metadata": {},
   "outputs": [
    {
     "name": "stdout",
     "output_type": "stream",
     "text": [
      "Hello everyone\n"
     ]
    }
   ],
   "source": [
    "print (\"Hello everyone\")"
   ]
  },
  {
   "cell_type": "markdown",
   "id": "92377e68-573d-4efc-a3d3-015b2b8ddaa8",
   "metadata": {},
   "source": [
    "# This is the largest\n",
    "## This is the second largest"
   ]
  },
  {
   "cell_type": "markdown",
   "id": "94c9008a",
   "metadata": {},
   "source": [
    "# this is just a sample markdown"
   ]
  },
  {
   "cell_type": "code",
   "execution_count": 1,
   "id": "ac660411",
   "metadata": {},
   "outputs": [
    {
     "name": "stdout",
     "output_type": "stream",
     "text": [
      "hello\n"
     ]
    }
   ],
   "source": [
    "print(\"hello\")"
   ]
  },
  {
   "cell_type": "markdown",
   "id": "7c04881a",
   "metadata": {},
   "source": [
    "# Hello\n",
    "- point 1\n",
    "- point 2"
   ]
  },
  {
   "cell_type": "code",
   "execution_count": 6,
   "id": "d0f1ff32",
   "metadata": {},
   "outputs": [
    {
     "name": "stdout",
     "output_type": "stream",
     "text": [
      "5\n"
     ]
    }
   ],
   "source": [
    "x = 2\n",
    "y = 3\n",
    "print(x + y)"
   ]
  },
  {
   "cell_type": "code",
   "execution_count": null,
   "id": "5bf5aa36",
   "metadata": {},
   "outputs": [],
   "source": []
  }
 ],
 "metadata": {
  "kernelspec": {
   "display_name": "Python 3 (ipykernel)",
   "language": "python",
   "name": "python3"
  },
  "language_info": {
   "codemirror_mode": {
    "name": "ipython",
    "version": 3
   },
   "file_extension": ".py",
   "mimetype": "text/x-python",
   "name": "python",
   "nbconvert_exporter": "python",
   "pygments_lexer": "ipython3",
   "version": "3.12.3"
  }
 },
 "nbformat": 4,
 "nbformat_minor": 5
}
